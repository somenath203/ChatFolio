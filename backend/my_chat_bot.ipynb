{
 "cells": [
  {
   "cell_type": "code",
   "execution_count": 1,
   "metadata": {},
   "outputs": [],
   "source": [
    "from langchain_community.document_loaders import TextLoader\n",
    "from langchain.text_splitter import RecursiveCharacterTextSplitter\n",
    "from langchain_community.vectorstores import FAISS\n",
    "from langchain_community.embeddings import HuggingFaceBgeEmbeddings\n",
    "from langchain.prompts import PromptTemplate\n",
    "from langchain.chains import RetrievalQA\n",
    "from langchain_groq import ChatGroq\n",
    "import os "
   ]
  },
  {
   "cell_type": "code",
   "execution_count": 2,
   "metadata": {},
   "outputs": [],
   "source": [
    "prompt_template = \"\"\"\n",
    "    Answer the questions based on the provided context only.\n",
    "    Please provide the most accurate response based on the question.\n",
    "    \n",
    "    <context>\n",
    "    {context}\n",
    "    </context>\n",
    "    Question:{question}\n",
    "\"\"\"\n"
   ]
  },
  {
   "cell_type": "code",
   "execution_count": 3,
   "metadata": {},
   "outputs": [],
   "source": [
    "loader = TextLoader('my_resume_data.txt')\n",
    "\n",
    "text_document_from_txt = loader.load()"
   ]
  },
  {
   "cell_type": "code",
   "execution_count": 4,
   "metadata": {},
   "outputs": [
    {
     "name": "stderr",
     "output_type": "stream",
     "text": [
      "C:\\python39997\\lib\\site-packages\\sentence_transformers\\cross_encoder\\CrossEncoder.py:11: TqdmWarning: IProgress not found. Please update jupyter and ipywidgets. See https://ipywidgets.readthedocs.io/en/stable/user_install.html\n",
      "  from tqdm.autonotebook import tqdm, trange\n",
      "C:\\python39997\\lib\\site-packages\\huggingface_hub\\file_download.py:1132: FutureWarning: `resume_download` is deprecated and will be removed in version 1.0.0. Downloads always resume when possible. If you want to force a new download, use `force_download=True`.\n",
      "  warnings.warn(\n"
     ]
    }
   ],
   "source": [
    "huggingface_embedddings = HuggingFaceBgeEmbeddings(model_name='BAAI/bge-small-en-v1.5', model_kwargs={'device': 'cpu'}, encode_kwargs={'normalize_embeddings':True})"
   ]
  },
  {
   "cell_type": "code",
   "execution_count": 5,
   "metadata": {},
   "outputs": [
    {
     "data": {
      "text/plain": [
       "[Document(metadata={'source': 'my_resume_data.txt'}, page_content='Somenath Choudhury is a technology enthusiast with expertise in Java, Python, JavaScript, ExpressJS, FastAPI, MongoDB, React, NextJS, Numpy, Pandas, Matplotlib, Seaborn, Scikit-learn, TensorFlow, Docker, and Git. He completed his Bachelor of Technology in Computer Science and Engineering from Lovely Professional University, India (2020 - 2024) with a CGPA of 7.36. He completed his Class XII at Bardhaman Sri Ramkrishna Saradapith Uchcha Vidyalaya in 2019 and his Class X at St. Pauls Academy in 2017. Somenath has developed several projects, including a [Tomato Leaf Disease Classification web app](https://github.com/somenath203/tomato-leaf-disease-classification-ten-classes) using deep learning models implemented in TensorFlow, FastAPI for sending images from frontend to seven models, ExpressJS for server-side authentication, MongoDB for data storage, and a React frontend for client side authentication, image upload and result display. Another project, [Student Success Failure Detector](https://github.com/somenath203/Predict-students-dropout-and-academic-success-frontend), uses Random Forest, Decision Tree, and SVM models to predict student dropout risk, featuring a React interface and backend system with FastAPI and ExpressJS. His [My Finance Manager app](https://github.com/somenath203/My-Finance-Manager-Frontend) tracks personal finances using React and TailwindCSS, with Express.js managing data storage in MongoDB. Additionally, he developed [Image Text Extractor](https://github.com/somenath203/Image-Text-Extractor), a NextJS and FastAPI-based tool that extracts text from images with the Pytesseract library. His achievements include ranking 5th in the [Devfolio Live Code 2.0 Hackathon](https://drive.google.com/file/d/1SHrwWFKx7aovLIpB6Lks4EEZ7cN9oscM/view) in September 2023, and receiving [Postman API Fundamentals Student Expert](https://badgr.com/public/assertions/u9_k1c49QaOWTqEvt0oOzA?identity__email=somenathchoudhury35@gmail.com) certification in May 2022. He holds certifications in [TensorFlow and Keras Deep Learning Bootcamp](https://www.udemy.com/certificate/UC-924d2e3a-8e16-490b-86c7-6f258e2f379f/) (January 2024) and [NextJS Authentication System](https://www.udemy.com/certificate/UC-e541b556-b201-46e9-9d09-6e8d39f2c31a/) (June 2023). His work and accomplishments can be explored on [GitHub](https://github.com/somenath203/), [LinkedIn](https://www.linkedin.com/in/somenath-choudhury/), and his [portfolio](https://somenath-choudhury-portfolio-version-2.vercel.app/). Contact him at somenathchoudhury38@gmail.com or +91-8617069228.')]"
      ]
     },
     "execution_count": 5,
     "metadata": {},
     "output_type": "execute_result"
    }
   ],
   "source": [
    "text_document_from_txt"
   ]
  },
  {
   "cell_type": "code",
   "execution_count": 6,
   "metadata": {},
   "outputs": [],
   "source": [
    "text_splitter = RecursiveCharacterTextSplitter(chunk_size=1000, chunk_overlap=200)\n",
    "\n",
    "document_chunks = text_splitter.split_documents(text_document_from_txt)"
   ]
  },
  {
   "cell_type": "code",
   "execution_count": 7,
   "metadata": {},
   "outputs": [],
   "source": [
    "vector_db = FAISS.from_documents(documents=document_chunks, embedding=huggingface_embedddings)"
   ]
  },
  {
   "cell_type": "code",
   "execution_count": 8,
   "metadata": {},
   "outputs": [],
   "source": [
    "retriever = vector_db.as_retriever(search_type=\"similarity\", search_kwargs={\"k\":3})"
   ]
  },
  {
   "cell_type": "code",
   "execution_count": 9,
   "metadata": {},
   "outputs": [],
   "source": [
    "groq_api_key = \"your groq api key\"\n",
    "\n",
    "llm_model = ChatGroq(\n",
    "    groq_api_key=groq_api_key,\n",
    "    model_name=\"gemma2-9b-it\"\n",
    ")"
   ]
  },
  {
   "cell_type": "code",
   "execution_count": 10,
   "metadata": {},
   "outputs": [],
   "source": [
    "prompt = PromptTemplate(template=prompt_template,input_variables=[\"context\",\"question\"])"
   ]
  },
  {
   "cell_type": "code",
   "execution_count": 11,
   "metadata": {},
   "outputs": [],
   "source": [
    "retrievalQA=RetrievalQA.from_chain_type(\n",
    "    llm=llm_model,\n",
    "    chain_type=\"stuff\",\n",
    "    retriever=retriever,\n",
    "    return_source_documents=True,\n",
    "    chain_type_kwargs={\"prompt\":prompt}\n",
    ")"
   ]
  },
  {
   "cell_type": "code",
   "execution_count": 12,
   "metadata": {},
   "outputs": [],
   "source": [
    "user_input = \"tell me about the skills of Somenath\""
   ]
  },
  {
   "cell_type": "code",
   "execution_count": 13,
   "metadata": {},
   "outputs": [],
   "source": [
    "result = retrievalQA.invoke({\"query\": user_input})"
   ]
  },
  {
   "cell_type": "code",
   "execution_count": 14,
   "metadata": {},
   "outputs": [
    {
     "name": "stdout",
     "output_type": "stream",
     "text": [
      "Somenath Choudhury is skilled in:\n",
      "\n",
      "* **Programming Languages:** Java, Python, JavaScript\n",
      "* **Frameworks/Libraries:** ExpressJS, FastAPI, React, NextJS, Numpy, Pandas, Matplotlib, Seaborn, Scikit-learn, TensorFlow, Pytesseract\n",
      "* **Databases:** MongoDB\n",
      "* **Other Tools:** Docker, Git \n",
      "\n",
      "\n",
      "He is also proficient in building web applications, using deep learning models, and handling image processing tasks. \n",
      "\n"
     ]
    }
   ],
   "source": [
    "print(result['result'])"
   ]
  }
 ],
 "metadata": {
  "kernelspec": {
   "display_name": "Python 3",
   "language": "python",
   "name": "python3"
  },
  "language_info": {
   "codemirror_mode": {
    "name": "ipython",
    "version": 3
   },
   "file_extension": ".py",
   "mimetype": "text/x-python",
   "name": "python",
   "nbconvert_exporter": "python",
   "pygments_lexer": "ipython3",
   "version": "3.9.7"
  }
 },
 "nbformat": 4,
 "nbformat_minor": 2
}
